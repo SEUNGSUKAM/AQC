{
 "cells": [
  {
   "attachments": {},
   "cell_type": "markdown",
   "id": "ed950b0c",
   "metadata": {},
   "source": [
    "#### qcc library"
   ]
  },
  {
   "cell_type": "code",
   "execution_count": 1,
   "id": "890dae6e-c251-4579-9452-0a1844118954",
   "metadata": {
    "vscode": {
     "languageId": "r"
    }
   },
   "outputs": [
    {
     "name": "stderr",
     "output_type": "stream",
     "text": [
      "Package 'qcc' version 2.7\n",
      "\n",
      "Type 'citation(\"qcc\")' for citing this R package in publications.\n",
      "\n"
     ]
    }
   ],
   "source": [
    "library(qcc)\n"
   ]
  },
  {
   "attachments": {},
   "cell_type": "markdown",
   "id": "8047c2ad-ca1f-4529-9aa7-9298fe9c950d",
   "metadata": {},
   "source": [
    "Code"
   ]
  },
  {
   "cell_type": "code",
   "execution_count": 28,
   "id": "fdc3dc4a-5505-4bf5-848e-f9817a12d6d0",
   "metadata": {
    "vscode": {
     "languageId": "r"
    }
   },
   "outputs": [],
   "source": [
    "L <- c()\n",
    "h <- c(4,5)\n",
    "\n",
    "\n",
    "shifts <- c(0, 0.25, 0.5, 0.75, 1.00, 1.50, 2.00, 2.5, 3.0, 4.0)\n",
    "L_shift <- list()\n"
   ]
  },
  {
   "cell_type": "code",
   "execution_count": 32,
   "id": "995e4850",
   "metadata": {
    "vscode": {
     "languageId": "r"
    }
   },
   "outputs": [],
   "source": [
    "L_shift <- list()\n",
    "for(shift in shifts)\n",
    "{L <- c()\n",
    "\n",
    "    for (i in 1:100)\n",
    "{\n",
    "    x <- rnorm(5000, 10, 1)\n",
    "    cu <- cusum(x, center = 10 + shift, decision.interval= h[1], se.shift =1 , plot=FALSE)\n",
    "    L <- c(L, min(c(cu$violations$lower, cu$violations$upper)))\n",
    "\n",
    "    \n",
    "}\n",
    "L_shift <- append(L_shift, mean(L))\n",
    "}\n"
   ]
  },
  {
   "cell_type": "code",
   "execution_count": 33,
   "id": "c53c5ad2",
   "metadata": {
    "vscode": {
     "languageId": "r"
    }
   },
   "outputs": [
    {
     "data": {
      "text/html": [
       "<ol>\n",
       "\t<li>152.37</li>\n",
       "\t<li>77.26</li>\n",
       "\t<li>27.81</li>\n",
       "\t<li>14.11</li>\n",
       "\t<li>8.11</li>\n",
       "\t<li>4.94</li>\n",
       "\t<li>3.42</li>\n",
       "\t<li>2.65</li>\n",
       "\t<li>2.16</li>\n",
       "\t<li>1.73</li>\n",
       "</ol>\n"
      ],
      "text/latex": [
       "\\begin{enumerate}\n",
       "\\item 152.37\n",
       "\\item 77.26\n",
       "\\item 27.81\n",
       "\\item 14.11\n",
       "\\item 8.11\n",
       "\\item 4.94\n",
       "\\item 3.42\n",
       "\\item 2.65\n",
       "\\item 2.16\n",
       "\\item 1.73\n",
       "\\end{enumerate}\n"
      ],
      "text/markdown": [
       "1. 152.37\n",
       "2. 77.26\n",
       "3. 27.81\n",
       "4. 14.11\n",
       "5. 8.11\n",
       "6. 4.94\n",
       "7. 3.42\n",
       "8. 2.65\n",
       "9. 2.16\n",
       "10. 1.73\n",
       "\n",
       "\n"
      ],
      "text/plain": [
       "[[1]]\n",
       "[1] 152.37\n",
       "\n",
       "[[2]]\n",
       "[1] 77.26\n",
       "\n",
       "[[3]]\n",
       "[1] 27.81\n",
       "\n",
       "[[4]]\n",
       "[1] 14.11\n",
       "\n",
       "[[5]]\n",
       "[1] 8.11\n",
       "\n",
       "[[6]]\n",
       "[1] 4.94\n",
       "\n",
       "[[7]]\n",
       "[1] 3.42\n",
       "\n",
       "[[8]]\n",
       "[1] 2.65\n",
       "\n",
       "[[9]]\n",
       "[1] 2.16\n",
       "\n",
       "[[10]]\n",
       "[1] 1.73\n"
      ]
     },
     "metadata": {},
     "output_type": "display_data"
    }
   ],
   "source": [
    "L_shift"
   ]
  },
  {
   "cell_type": "code",
   "execution_count": 34,
   "id": "5fb5844e",
   "metadata": {
    "vscode": {
     "languageId": "r"
    }
   },
   "outputs": [],
   "source": [
    "L_shift <- list()\n",
    "for(shift in shifts)\n",
    "{L <- c()\n",
    "\n",
    "    for (i in 1:100)\n",
    "{\n",
    "    x <- rnorm(5000, 10, 1)\n",
    "    cu <- cusum(x, center = 10 + shift, decision.interval= h[2], se.shift =1 , plot=FALSE)\n",
    "    L <- c(L, min(c(cu$violations$lower, cu$violations$upper)))\n",
    "\n",
    "    \n",
    "}\n",
    "L_shift <- append(L_shift, mean(L))\n",
    "}"
   ]
  },
  {
   "cell_type": "code",
   "execution_count": 35,
   "id": "ea2c769b",
   "metadata": {
    "vscode": {
     "languageId": "r"
    }
   },
   "outputs": [
    {
     "data": {
      "text/html": [
       "<ol>\n",
       "\t<li>492.44</li>\n",
       "\t<li>135.35</li>\n",
       "\t<li>35.21</li>\n",
       "\t<li>16.78</li>\n",
       "\t<li>9.99</li>\n",
       "\t<li>5.63</li>\n",
       "\t<li>4.24</li>\n",
       "\t<li>3.08</li>\n",
       "\t<li>2.57</li>\n",
       "\t<li>1.99</li>\n",
       "</ol>\n"
      ],
      "text/latex": [
       "\\begin{enumerate}\n",
       "\\item 492.44\n",
       "\\item 135.35\n",
       "\\item 35.21\n",
       "\\item 16.78\n",
       "\\item 9.99\n",
       "\\item 5.63\n",
       "\\item 4.24\n",
       "\\item 3.08\n",
       "\\item 2.57\n",
       "\\item 1.99\n",
       "\\end{enumerate}\n"
      ],
      "text/markdown": [
       "1. 492.44\n",
       "2. 135.35\n",
       "3. 35.21\n",
       "4. 16.78\n",
       "5. 9.99\n",
       "6. 5.63\n",
       "7. 4.24\n",
       "8. 3.08\n",
       "9. 2.57\n",
       "10. 1.99\n",
       "\n",
       "\n"
      ],
      "text/plain": [
       "[[1]]\n",
       "[1] 492.44\n",
       "\n",
       "[[2]]\n",
       "[1] 135.35\n",
       "\n",
       "[[3]]\n",
       "[1] 35.21\n",
       "\n",
       "[[4]]\n",
       "[1] 16.78\n",
       "\n",
       "[[5]]\n",
       "[1] 9.99\n",
       "\n",
       "[[6]]\n",
       "[1] 5.63\n",
       "\n",
       "[[7]]\n",
       "[1] 4.24\n",
       "\n",
       "[[8]]\n",
       "[1] 3.08\n",
       "\n",
       "[[9]]\n",
       "[1] 2.57\n",
       "\n",
       "[[10]]\n",
       "[1] 1.99\n"
      ]
     },
     "metadata": {},
     "output_type": "display_data"
    }
   ],
   "source": [
    "L_shift"
   ]
  },
  {
   "cell_type": "code",
   "execution_count": 11,
   "id": "0ef547ae",
   "metadata": {
    "vscode": {
     "languageId": "r"
    }
   },
   "outputs": [
    {
     "data": {
      "text/html": [
       "84.38"
      ],
      "text/latex": [
       "84.38"
      ],
      "text/markdown": [
       "84.38"
      ],
      "text/plain": [
       "[1] 84.38"
      ]
     },
     "metadata": {},
     "output_type": "display_data"
    }
   ],
   "source": [
    "shift<-0.5\n",
    "library(qcc)\n",
    "L<-c()\n",
    "k<-0.5\n",
    "h<-4\n",
    "shift<-0.25\n",
    "sigma<-1\n",
    "for (i in 1:100) {\n",
    " \n",
    "x <- rnorm(5000, 10, sigma^2)\n",
    " \n",
    "q <- cusum(x, center = 10+shift*sigma, decision.interval = h*sigma, \n",
    "se.shift = 2*k*sigma, plot = FALSE)\n",
    " \n",
    "L <- c(L, min(c(q$violations$lower,q$violations$upper)))\n",
    "}\n",
    "mean(L)"
   ]
  },
  {
   "cell_type": "code",
   "execution_count": 86,
   "id": "1a6fc6fd",
   "metadata": {
    "vscode": {
     "languageId": "r"
    }
   },
   "outputs": [
    {
     "data": {
      "text/html": [
       "<style>\n",
       ".list-inline {list-style: none; margin:0; padding: 0}\n",
       ".list-inline>li {display: inline-block}\n",
       ".list-inline>li:not(:last-child)::after {content: \"\\00b7\"; padding: 0 .5ex}\n",
       "</style>\n",
       "<ol class=list-inline><li>17</li><li>183</li><li>104</li><li>28</li><li>131</li><li>70</li><li>8</li><li>74</li><li>81</li><li>19</li><li>53</li><li>23</li><li>44</li><li>283</li><li>30</li><li>94</li><li>14</li><li>79</li><li>31</li><li>50</li><li>14</li><li>106</li><li>47</li><li>17</li><li>32</li><li>86</li><li>249</li><li>16</li><li>27</li><li>48</li><li>127</li><li>64</li><li>14</li><li>95</li><li>251</li><li>70</li><li>14</li><li>210</li><li>50</li><li>22</li><li>10</li><li>85</li><li>25</li><li>39</li><li>63</li><li>13</li><li>7</li><li>28</li><li>32</li><li>140</li><li>4</li><li>62</li><li>170</li><li>108</li><li>112</li><li>28</li><li>138</li><li>15</li><li>55</li><li>36</li><li>18</li><li>317</li><li>65</li><li>192</li><li>69</li><li>152</li><li>34</li><li>144</li><li>117</li><li>79</li><li>15</li><li>28</li><li>139</li><li>37</li><li>17</li><li>31</li><li>92</li><li>36</li><li>91</li><li>51</li><li>25</li><li>18</li><li>232</li><li>215</li><li>74</li><li>193</li><li>12</li><li>52</li><li>10</li><li>75</li><li>156</li><li>87</li><li>126</li><li>252</li><li>15</li><li>74</li><li>77</li><li>118</li><li>85</li><li>23</li></ol>\n"
      ],
      "text/latex": [
       "\\begin{enumerate*}\n",
       "\\item 17\n",
       "\\item 183\n",
       "\\item 104\n",
       "\\item 28\n",
       "\\item 131\n",
       "\\item 70\n",
       "\\item 8\n",
       "\\item 74\n",
       "\\item 81\n",
       "\\item 19\n",
       "\\item 53\n",
       "\\item 23\n",
       "\\item 44\n",
       "\\item 283\n",
       "\\item 30\n",
       "\\item 94\n",
       "\\item 14\n",
       "\\item 79\n",
       "\\item 31\n",
       "\\item 50\n",
       "\\item 14\n",
       "\\item 106\n",
       "\\item 47\n",
       "\\item 17\n",
       "\\item 32\n",
       "\\item 86\n",
       "\\item 249\n",
       "\\item 16\n",
       "\\item 27\n",
       "\\item 48\n",
       "\\item 127\n",
       "\\item 64\n",
       "\\item 14\n",
       "\\item 95\n",
       "\\item 251\n",
       "\\item 70\n",
       "\\item 14\n",
       "\\item 210\n",
       "\\item 50\n",
       "\\item 22\n",
       "\\item 10\n",
       "\\item 85\n",
       "\\item 25\n",
       "\\item 39\n",
       "\\item 63\n",
       "\\item 13\n",
       "\\item 7\n",
       "\\item 28\n",
       "\\item 32\n",
       "\\item 140\n",
       "\\item 4\n",
       "\\item 62\n",
       "\\item 170\n",
       "\\item 108\n",
       "\\item 112\n",
       "\\item 28\n",
       "\\item 138\n",
       "\\item 15\n",
       "\\item 55\n",
       "\\item 36\n",
       "\\item 18\n",
       "\\item 317\n",
       "\\item 65\n",
       "\\item 192\n",
       "\\item 69\n",
       "\\item 152\n",
       "\\item 34\n",
       "\\item 144\n",
       "\\item 117\n",
       "\\item 79\n",
       "\\item 15\n",
       "\\item 28\n",
       "\\item 139\n",
       "\\item 37\n",
       "\\item 17\n",
       "\\item 31\n",
       "\\item 92\n",
       "\\item 36\n",
       "\\item 91\n",
       "\\item 51\n",
       "\\item 25\n",
       "\\item 18\n",
       "\\item 232\n",
       "\\item 215\n",
       "\\item 74\n",
       "\\item 193\n",
       "\\item 12\n",
       "\\item 52\n",
       "\\item 10\n",
       "\\item 75\n",
       "\\item 156\n",
       "\\item 87\n",
       "\\item 126\n",
       "\\item 252\n",
       "\\item 15\n",
       "\\item 74\n",
       "\\item 77\n",
       "\\item 118\n",
       "\\item 85\n",
       "\\item 23\n",
       "\\end{enumerate*}\n"
      ],
      "text/markdown": [
       "1. 17\n",
       "2. 183\n",
       "3. 104\n",
       "4. 28\n",
       "5. 131\n",
       "6. 70\n",
       "7. 8\n",
       "8. 74\n",
       "9. 81\n",
       "10. 19\n",
       "11. 53\n",
       "12. 23\n",
       "13. 44\n",
       "14. 283\n",
       "15. 30\n",
       "16. 94\n",
       "17. 14\n",
       "18. 79\n",
       "19. 31\n",
       "20. 50\n",
       "21. 14\n",
       "22. 106\n",
       "23. 47\n",
       "24. 17\n",
       "25. 32\n",
       "26. 86\n",
       "27. 249\n",
       "28. 16\n",
       "29. 27\n",
       "30. 48\n",
       "31. 127\n",
       "32. 64\n",
       "33. 14\n",
       "34. 95\n",
       "35. 251\n",
       "36. 70\n",
       "37. 14\n",
       "38. 210\n",
       "39. 50\n",
       "40. 22\n",
       "41. 10\n",
       "42. 85\n",
       "43. 25\n",
       "44. 39\n",
       "45. 63\n",
       "46. 13\n",
       "47. 7\n",
       "48. 28\n",
       "49. 32\n",
       "50. 140\n",
       "51. 4\n",
       "52. 62\n",
       "53. 170\n",
       "54. 108\n",
       "55. 112\n",
       "56. 28\n",
       "57. 138\n",
       "58. 15\n",
       "59. 55\n",
       "60. 36\n",
       "61. 18\n",
       "62. 317\n",
       "63. 65\n",
       "64. 192\n",
       "65. 69\n",
       "66. 152\n",
       "67. 34\n",
       "68. 144\n",
       "69. 117\n",
       "70. 79\n",
       "71. 15\n",
       "72. 28\n",
       "73. 139\n",
       "74. 37\n",
       "75. 17\n",
       "76. 31\n",
       "77. 92\n",
       "78. 36\n",
       "79. 91\n",
       "80. 51\n",
       "81. 25\n",
       "82. 18\n",
       "83. 232\n",
       "84. 215\n",
       "85. 74\n",
       "86. 193\n",
       "87. 12\n",
       "88. 52\n",
       "89. 10\n",
       "90. 75\n",
       "91. 156\n",
       "92. 87\n",
       "93. 126\n",
       "94. 252\n",
       "95. 15\n",
       "96. 74\n",
       "97. 77\n",
       "98. 118\n",
       "99. 85\n",
       "100. 23\n",
       "\n",
       "\n"
      ],
      "text/plain": [
       "  [1]  17 183 104  28 131  70   8  74  81  19  53  23  44 283  30  94  14  79\n",
       " [19]  31  50  14 106  47  17  32  86 249  16  27  48 127  64  14  95 251  70\n",
       " [37]  14 210  50  22  10  85  25  39  63  13   7  28  32 140   4  62 170 108\n",
       " [55] 112  28 138  15  55  36  18 317  65 192  69 152  34 144 117  79  15  28\n",
       " [73] 139  37  17  31  92  36  91  51  25  18 232 215  74 193  12  52  10  75\n",
       " [91] 156  87 126 252  15  74  77 118  85  23"
      ]
     },
     "metadata": {},
     "output_type": "display_data"
    }
   ],
   "source": [
    "L"
   ]
  },
  {
   "cell_type": "code",
   "execution_count": 10,
   "id": "7c39db62",
   "metadata": {
    "vscode": {
     "languageId": "r"
    }
   },
   "outputs": [
    {
     "ename": "ERROR",
     "evalue": "Error in if (decision.interval <= 0) stop(\"decision.interval must be positive\"): missing value where TRUE/FALSE needed\n",
     "output_type": "error",
     "traceback": [
      "Error in if (decision.interval <= 0) stop(\"decision.interval must be positive\"): missing value where TRUE/FALSE needed\nTraceback:\n",
      "1. cusum(x, center = 10, decision.interval = h[2], se.shift = 1, \n .     plot = FALSE)"
     ]
    }
   ],
   "source": [
    "L_shfit <- list()\n",
    "\n",
    "for(shift in shifts)\n",
    "{for (i in 1:100)\n",
    "{\n",
    "    x <- rnorm(5000, 10+shift, 1)\n",
    "    cu <- cusum(x, center = 10, decision.interval= h[2], se.shift =1 , plot=FALSE)\n",
    "    L <- c(L, min(c(cu$violations$lower, cu$violations$upper)))\n",
    "}\n",
    "L_shfit <- append(L_shfit, mean(L))\n",
    "}"
   ]
  },
  {
   "cell_type": "code",
   "execution_count": 64,
   "id": "e18859d5",
   "metadata": {
    "vscode": {
     "languageId": "r"
    }
   },
   "outputs": [
    {
     "data": {
      "text/html": [
       "<ol>\n",
       "\t<li>70.6612068965517</li>\n",
       "\t<li>77.0269841269841</li>\n",
       "\t<li>74.2022058823529</li>\n",
       "\t<li>70.2397260273973</li>\n",
       "\t<li>66.4358974358974</li>\n",
       "\t<li>62.7759036144578</li>\n",
       "\t<li>59.425</li>\n",
       "\t<li>56.4064516129032</li>\n",
       "\t<li>53.6586734693878</li>\n",
       "\t<li>51.1553398058252</li>\n",
       "</ol>\n"
      ],
      "text/latex": [
       "\\begin{enumerate}\n",
       "\\item 70.6612068965517\n",
       "\\item 77.0269841269841\n",
       "\\item 74.2022058823529\n",
       "\\item 70.2397260273973\n",
       "\\item 66.4358974358974\n",
       "\\item 62.7759036144578\n",
       "\\item 59.425\n",
       "\\item 56.4064516129032\n",
       "\\item 53.6586734693878\n",
       "\\item 51.1553398058252\n",
       "\\end{enumerate}\n"
      ],
      "text/markdown": [
       "1. 70.6612068965517\n",
       "2. 77.0269841269841\n",
       "3. 74.2022058823529\n",
       "4. 70.2397260273973\n",
       "5. 66.4358974358974\n",
       "6. 62.7759036144578\n",
       "7. 59.425\n",
       "8. 56.4064516129032\n",
       "9. 53.6586734693878\n",
       "10. 51.1553398058252\n",
       "\n",
       "\n"
      ],
      "text/plain": [
       "[[1]]\n",
       "[1] 70.66121\n",
       "\n",
       "[[2]]\n",
       "[1] 77.02698\n",
       "\n",
       "[[3]]\n",
       "[1] 74.20221\n",
       "\n",
       "[[4]]\n",
       "[1] 70.23973\n",
       "\n",
       "[[5]]\n",
       "[1] 66.4359\n",
       "\n",
       "[[6]]\n",
       "[1] 62.7759\n",
       "\n",
       "[[7]]\n",
       "[1] 59.425\n",
       "\n",
       "[[8]]\n",
       "[1] 56.40645\n",
       "\n",
       "[[9]]\n",
       "[1] 53.65867\n",
       "\n",
       "[[10]]\n",
       "[1] 51.15534\n"
      ]
     },
     "metadata": {},
     "output_type": "display_data"
    }
   ],
   "source": [
    "L_shfit"
   ]
  },
  {
   "cell_type": "code",
   "execution_count": null,
   "id": "f33db00a",
   "metadata": {
    "vscode": {
     "languageId": "r"
    }
   },
   "outputs": [],
   "source": []
  },
  {
   "cell_type": "code",
   "execution_count": 30,
   "id": "b52971f5",
   "metadata": {
    "vscode": {
     "languageId": "r"
    }
   },
   "outputs": [],
   "source": [
    "x <- rnorm(5000, 10, 1)\n",
    "cu <- cusum(x, center = 10 + shift, decision.interval= h[1], se.shift =1 , plot=FALSE)\n",
    "L <- c(L, min(c(cu$violations$lower, cu$violations$upper)))"
   ]
  },
  {
   "cell_type": "code",
   "execution_count": 3,
   "id": "e90e469f-91a8-45bf-8765-3f09c6cb97a9",
   "metadata": {
    "tags": [],
    "vscode": {
     "languageId": "r"
    }
   },
   "outputs": [
    {
     "name": "stderr",
     "output_type": "stream",
     "text": [
      "Warning message in min(c(em$violations)):\n",
      "“no non-missing arguments to min; returning Inf”\n",
      "Warning message in min(c(em_1$violations)):\n",
      "“no non-missing arguments to min; returning Inf”\n",
      "Warning message in min(c(em$violations)):\n",
      "“no non-missing arguments to min; returning Inf”\n",
      "Warning message in min(c(em$violations)):\n",
      "“no non-missing arguments to min; returning Inf”\n"
     ]
    }
   ],
   "source": [
    "for(i in 1:100){\n",
    "   \n",
    "    x <- rnorm(5000, 0, 1.5)\n",
    "    sh <- qcc(x, type='xbar.one', plot=FALSE)\n",
    "    cu <- cusum(x, se.shift = 1, plot=FALSE)\n",
    "    cu_5 <- cusum(x, se.shift = 0.5, plot=FALSE)\n",
    "    em <- ewma(x, lambda = 0.05, plot=FALSE)\n",
    "    em_1 <- ewma(x, lambda = 0.1, plot=FALSE)\n",
    "    em_2 <- ewma(x, lambda = 0.2, plot=FALSE)\n",
    "                  \n",
    "    RL_shewhart<-c(RL_shewhart,min(c(sh$violations$beyond.limits)))\n",
    "    RL_cusum<-c(RL_cusum,min(c(cu$violations$lower,cu$violations$upper)))\n",
    "    RL_cusum_5<-c(RL_cusum_5,min(c(cu_5$violations$lower,cu_5$violations$upper)))\n",
    "    RL_ewma<-c(RL_ewma,min(c(em$violations)))\n",
    "    RL_ewma_1<-c(RL_ewma_1,min(c(em_1$violations)))\n",
    "    RL_ewma_2<-c(RL_ewma_2,min(c(em_2$violations)))\n",
    "   \n",
    "}"
   ]
  },
  {
   "cell_type": "code",
   "execution_count": 4,
   "id": "37135996-4385-4572-a0ed-25af3094bdc8",
   "metadata": {
    "vscode": {
     "languageId": "r"
    }
   },
   "outputs": [
    {
     "data": {
      "text/html": [
       "343.33"
      ],
      "text/latex": [
       "343.33"
      ],
      "text/markdown": [
       "343.33"
      ],
      "text/plain": [
       "[1] 343.33"
      ]
     },
     "metadata": {},
     "output_type": "display_data"
    },
    {
     "data": {
      "text/html": [
       "437.86"
      ],
      "text/latex": [
       "437.86"
      ],
      "text/markdown": [
       "437.86"
      ],
      "text/plain": [
       "[1] 437.86"
      ]
     },
     "metadata": {},
     "output_type": "display_data"
    },
    {
     "data": {
      "text/html": [
       "64.64"
      ],
      "text/latex": [
       "64.64"
      ],
      "text/markdown": [
       "64.64"
      ],
      "text/plain": [
       "[1] 64.64"
      ]
     },
     "metadata": {},
     "output_type": "display_data"
    },
    {
     "data": {
      "text/html": [
       "Inf"
      ],
      "text/latex": [
       "Inf"
      ],
      "text/markdown": [
       "Inf"
      ],
      "text/plain": [
       "[1] Inf"
      ]
     },
     "metadata": {},
     "output_type": "display_data"
    },
    {
     "data": {
      "text/html": [
       "Inf"
      ],
      "text/latex": [
       "Inf"
      ],
      "text/markdown": [
       "Inf"
      ],
      "text/plain": [
       "[1] Inf"
      ]
     },
     "metadata": {},
     "output_type": "display_data"
    },
    {
     "data": {
      "text/html": [
       "556.83"
      ],
      "text/latex": [
       "556.83"
      ],
      "text/markdown": [
       "556.83"
      ],
      "text/plain": [
       "[1] 556.83"
      ]
     },
     "metadata": {},
     "output_type": "display_data"
    }
   ],
   "source": [
    "mean(RL_shewhart)\n",
    "mean(RL_cusum)\n",
    "mean(RL_cusum_5)\n",
    "mean(RL_ewma)\n",
    "mean(RL_ewma_1)\n",
    "mean(RL_ewma_2)"
   ]
  },
  {
   "cell_type": "markdown",
   "id": "56e9a711-e071-417c-a3c8-50e96bda77b3",
   "metadata": {},
   "source": [
    "(2) Gamma distribution"
   ]
  },
  {
   "cell_type": "code",
   "execution_count": 5,
   "id": "f1e7adb2-90b6-4f9b-8421-531367392290",
   "metadata": {
    "vscode": {
     "languageId": "r"
    }
   },
   "outputs": [],
   "source": [
    "RL_shewhart<-c()\n",
    "RL_cusum<-c()\n",
    "RL_cusum_5 <-c()\n",
    "RL_ewma<-c()\n",
    "RL_ewma_1<-c()\n",
    "RL_ewma_2<-c()"
   ]
  },
  {
   "cell_type": "code",
   "execution_count": 6,
   "id": "ef4dd598-43de-4c88-9faf-97a07a52e518",
   "metadata": {
    "vscode": {
     "languageId": "r"
    }
   },
   "outputs": [],
   "source": [
    "for(i in 1:100){\n",
    "   \n",
    "    x <- rgamma(6000, shape=4)\n",
    "    sh <- qcc(x, type='xbar.one', plot=FALSE)\n",
    "    cu <- cusum(x, se.shift = 1, plot=FALSE)\n",
    "    cu_5 <- cusum(x, se.shift = 0.5, plot=FALSE)\n",
    "    em <- ewma(x, lambda = 0.05, plot=FALSE)\n",
    "    em_1 <- ewma(x, lambda = 0.1, plot=FALSE)\n",
    "    em_2 <- ewma(x, lambda = 0.2, plot=FALSE)\n",
    "                  \n",
    "    RL_shewhart<-c(RL_shewhart,min(c(sh$violations$beyond.limits)))\n",
    "    RL_cusum<-c(RL_cusum,min(c(cu$violations$lower,cu$violations$upper)))\n",
    "    RL_cusum_5<-c(RL_cusum_5,min(c(cu_5$violations$lower,cu_5$violations$upper)))\n",
    "    RL_ewma<-c(RL_ewma,min(c(em$violations)))\n",
    "    RL_ewma_1<-c(RL_ewma_1,min(c(em_1$violations)))\n",
    "    RL_ewma_2<-c(RL_ewma_2,min(c(em_2$violations)))\n",
    "   \n",
    "}"
   ]
  },
  {
   "cell_type": "code",
   "execution_count": 7,
   "id": "e0c2182f-f53f-4dcc-9186-86f247359192",
   "metadata": {
    "vscode": {
     "languageId": "r"
    }
   },
   "outputs": [
    {
     "data": {
      "text/html": [
       "74.03"
      ],
      "text/latex": [
       "74.03"
      ],
      "text/markdown": [
       "74.03"
      ],
      "text/plain": [
       "[1] 74.03"
      ]
     },
     "metadata": {},
     "output_type": "display_data"
    },
    {
     "data": {
      "text/html": [
       "270"
      ],
      "text/latex": [
       "270"
      ],
      "text/markdown": [
       "270"
      ],
      "text/plain": [
       "[1] 270"
      ]
     },
     "metadata": {},
     "output_type": "display_data"
    },
    {
     "data": {
      "text/html": [
       "57.72"
      ],
      "text/latex": [
       "57.72"
      ],
      "text/markdown": [
       "57.72"
      ],
      "text/plain": [
       "[1] 57.72"
      ]
     },
     "metadata": {},
     "output_type": "display_data"
    },
    {
     "data": {
      "text/html": [
       "890.27"
      ],
      "text/latex": [
       "890.27"
      ],
      "text/markdown": [
       "890.27"
      ],
      "text/plain": [
       "[1] 890.27"
      ]
     },
     "metadata": {},
     "output_type": "display_data"
    },
    {
     "data": {
      "text/html": [
       "606.44"
      ],
      "text/latex": [
       "606.44"
      ],
      "text/markdown": [
       "606.44"
      ],
      "text/plain": [
       "[1] 606.44"
      ]
     },
     "metadata": {},
     "output_type": "display_data"
    },
    {
     "data": {
      "text/html": [
       "298.62"
      ],
      "text/latex": [
       "298.62"
      ],
      "text/markdown": [
       "298.62"
      ],
      "text/plain": [
       "[1] 298.62"
      ]
     },
     "metadata": {},
     "output_type": "display_data"
    }
   ],
   "source": [
    "mean(RL_shewhart)\n",
    "mean(RL_cusum)\n",
    "mean(RL_cusum_5)\n",
    "mean(RL_ewma)\n",
    "mean(RL_ewma_1)\n",
    "mean(RL_ewma_2)"
   ]
  },
  {
   "cell_type": "markdown",
   "id": "394da337-4bec-41b3-b325-c016c391bf2d",
   "metadata": {},
   "source": [
    "(3) Geomertric distribution"
   ]
  },
  {
   "cell_type": "code",
   "execution_count": 8,
   "id": "471c8684-cb0b-46fa-ae39-4948da0bd20d",
   "metadata": {
    "vscode": {
     "languageId": "r"
    }
   },
   "outputs": [],
   "source": [
    "RL_shewhart<-c()\n",
    "RL_cusum<-c()\n",
    "RL_cusum_5 <-c()\n",
    "RL_ewma<-c()\n",
    "RL_ewma_1<-c()\n",
    "RL_ewma_2<-c()"
   ]
  },
  {
   "cell_type": "code",
   "execution_count": 9,
   "id": "190a74a8-edf3-4aa7-b9f5-b84178fc9e35",
   "metadata": {
    "vscode": {
     "languageId": "r"
    }
   },
   "outputs": [],
   "source": [
    "for(i in 1:100){\n",
    "   \n",
    "    x <-rgeom(1000, prob=0.7)\n",
    "    sh <- qcc(x, type='xbar.one', plot=FALSE)\n",
    "    cu <- cusum(x, se.shift = 1, plot=FALSE)\n",
    "    cu_5 <- cusum(x, se.shift = 0.5, plot=FALSE)\n",
    "    em <- ewma(x, lambda = 0.05, plot=FALSE)\n",
    "    em_1 <- ewma(x, lambda = 0.1, plot=FALSE)\n",
    "    em_2 <- ewma(x, lambda = 0.2, plot=FALSE)\n",
    "                  \n",
    "    RL_shewhart<-c(RL_shewhart,min(c(sh$violations$beyond.limits)))\n",
    "    RL_cusum<-c(RL_cusum,min(c(cu$violations$lower,cu$violations$upper)))\n",
    "    RL_cusum_5<-c(RL_cusum_5,min(c(cu_5$violations$lower,cu_5$violations$upper)))\n",
    "    RL_ewma<-c(RL_ewma,min(c(em$violations)))\n",
    "    RL_ewma_1<-c(RL_ewma_1,min(c(em_1$violations)))\n",
    "    RL_ewma_2<-c(RL_ewma_2,min(c(em_2$violations)))\n",
    "   \n",
    "}"
   ]
  },
  {
   "cell_type": "code",
   "execution_count": 10,
   "id": "9a62c252-6d29-4284-aba6-6f8f05524838",
   "metadata": {
    "vscode": {
     "languageId": "r"
    }
   },
   "outputs": [
    {
     "data": {
      "text/html": [
       "27.81"
      ],
      "text/latex": [
       "27.81"
      ],
      "text/markdown": [
       "27.81"
      ],
      "text/plain": [
       "[1] 27.81"
      ]
     },
     "metadata": {},
     "output_type": "display_data"
    },
    {
     "data": {
      "text/html": [
       "46.18"
      ],
      "text/latex": [
       "46.18"
      ],
      "text/markdown": [
       "46.18"
      ],
      "text/plain": [
       "[1] 46.18"
      ]
     },
     "metadata": {},
     "output_type": "display_data"
    },
    {
     "data": {
      "text/html": [
       "27.25"
      ],
      "text/latex": [
       "27.25"
      ],
      "text/markdown": [
       "27.25"
      ],
      "text/plain": [
       "[1] 27.25"
      ]
     },
     "metadata": {},
     "output_type": "display_data"
    },
    {
     "data": {
      "text/html": [
       "155.37"
      ],
      "text/latex": [
       "155.37"
      ],
      "text/markdown": [
       "155.37"
      ],
      "text/plain": [
       "[1] 155.37"
      ]
     },
     "metadata": {},
     "output_type": "display_data"
    },
    {
     "data": {
      "text/html": [
       "91.69"
      ],
      "text/latex": [
       "91.69"
      ],
      "text/markdown": [
       "91.69"
      ],
      "text/plain": [
       "[1] 91.69"
      ]
     },
     "metadata": {},
     "output_type": "display_data"
    },
    {
     "data": {
      "text/html": [
       "57.83"
      ],
      "text/latex": [
       "57.83"
      ],
      "text/markdown": [
       "57.83"
      ],
      "text/plain": [
       "[1] 57.83"
      ]
     },
     "metadata": {},
     "output_type": "display_data"
    }
   ],
   "source": [
    "mean(RL_shewhart)\n",
    "mean(RL_cusum)\n",
    "mean(RL_cusum_5)\n",
    "mean(RL_ewma)\n",
    "mean(RL_ewma_1)\n",
    "mean(RL_ewma_2)"
   ]
  },
  {
   "cell_type": "markdown",
   "id": "914b3114-c8ec-416e-8afa-f6f8f851d833",
   "metadata": {},
   "source": [
    "(4) beta distribution"
   ]
  },
  {
   "cell_type": "code",
   "execution_count": 23,
   "id": "20ff9aac-b575-4947-a013-7301f4a100fa",
   "metadata": {
    "vscode": {
     "languageId": "r"
    }
   },
   "outputs": [],
   "source": [
    "RL_shewhart<-c()\n",
    "RL_cusum<-c()\n",
    "RL_cusum_5 <-c()\n",
    "RL_ewma<-c()\n",
    "RL_ewma_1<-c()\n",
    "RL_ewma_2<-c()"
   ]
  },
  {
   "cell_type": "code",
   "execution_count": 24,
   "id": "17c22fef-a5c8-4cc1-9525-010fec8a35db",
   "metadata": {
    "collapsed": true,
    "jupyter": {
     "outputs_hidden": true
    },
    "tags": [],
    "vscode": {
     "languageId": "r"
    }
   },
   "outputs": [
    {
     "name": "stderr",
     "output_type": "stream",
     "text": [
      "Warning message in min(c(em$violations)):\n",
      "“no non-missing arguments to min; returning Inf”\n",
      "Warning message in min(c(em$violations)):\n",
      "“no non-missing arguments to min; returning Inf”\n",
      "Warning message in min(c(em$violations)):\n",
      "“no non-missing arguments to min; returning Inf”\n",
      "Warning message in min(c(em$violations)):\n",
      "“no non-missing arguments to min; returning Inf”\n",
      "Warning message in min(c(em_1$violations)):\n",
      "“no non-missing arguments to min; returning Inf”\n",
      "Warning message in min(c(em_2$violations)):\n",
      "“no non-missing arguments to min; returning Inf”\n",
      "Warning message in min(c(em$violations)):\n",
      "“no non-missing arguments to min; returning Inf”\n",
      "Warning message in min(c(em$violations)):\n",
      "“no non-missing arguments to min; returning Inf”\n",
      "Warning message in min(c(em$violations)):\n",
      "“no non-missing arguments to min; returning Inf”\n",
      "Warning message in min(c(em$violations)):\n",
      "“no non-missing arguments to min; returning Inf”\n",
      "Warning message in min(c(em_1$violations)):\n",
      "“no non-missing arguments to min; returning Inf”\n",
      "Warning message in min(c(em$violations)):\n",
      "“no non-missing arguments to min; returning Inf”\n",
      "Warning message in min(c(em$violations)):\n",
      "“no non-missing arguments to min; returning Inf”\n",
      "Warning message in min(c(em$violations)):\n",
      "“no non-missing arguments to min; returning Inf”\n",
      "Warning message in min(c(em$violations)):\n",
      "“no non-missing arguments to min; returning Inf”\n",
      "Warning message in min(c(em$violations)):\n",
      "“no non-missing arguments to min; returning Inf”\n",
      "Warning message in min(c(em$violations)):\n",
      "“no non-missing arguments to min; returning Inf”\n",
      "Warning message in min(c(em_1$violations)):\n",
      "“no non-missing arguments to min; returning Inf”\n",
      "Warning message in min(c(em$violations)):\n",
      "“no non-missing arguments to min; returning Inf”\n",
      "Warning message in min(c(em_1$violations)):\n",
      "“no non-missing arguments to min; returning Inf”\n",
      "Warning message in min(c(em$violations)):\n",
      "“no non-missing arguments to min; returning Inf”\n",
      "Warning message in min(c(em$violations)):\n",
      "“no non-missing arguments to min; returning Inf”\n",
      "Warning message in min(c(em$violations)):\n",
      "“no non-missing arguments to min; returning Inf”\n",
      "Warning message in min(c(em_1$violations)):\n",
      "“no non-missing arguments to min; returning Inf”\n",
      "Warning message in min(c(cu$violations$lower, cu$violations$upper)):\n",
      "“no non-missing arguments to min; returning Inf”\n",
      "Warning message in min(c(em$violations)):\n",
      "“no non-missing arguments to min; returning Inf”\n",
      "Warning message in min(c(em$violations)):\n",
      "“no non-missing arguments to min; returning Inf”\n",
      "Warning message in min(c(em$violations)):\n",
      "“no non-missing arguments to min; returning Inf”\n",
      "Warning message in min(c(em$violations)):\n",
      "“no non-missing arguments to min; returning Inf”\n",
      "Warning message in min(c(em$violations)):\n",
      "“no non-missing arguments to min; returning Inf”\n",
      "Warning message in min(c(em$violations)):\n",
      "“no non-missing arguments to min; returning Inf”\n",
      "Warning message in min(c(em_1$violations)):\n",
      "“no non-missing arguments to min; returning Inf”\n",
      "Warning message in min(c(em$violations)):\n",
      "“no non-missing arguments to min; returning Inf”\n",
      "Warning message in min(c(em$violations)):\n",
      "“no non-missing arguments to min; returning Inf”\n",
      "Warning message in min(c(em$violations)):\n",
      "“no non-missing arguments to min; returning Inf”\n",
      "Warning message in min(c(em$violations)):\n",
      "“no non-missing arguments to min; returning Inf”\n",
      "Warning message in min(c(em_1$violations)):\n",
      "“no non-missing arguments to min; returning Inf”\n",
      "Warning message in min(c(em_1$violations)):\n",
      "“no non-missing arguments to min; returning Inf”\n",
      "Warning message in min(c(em$violations)):\n",
      "“no non-missing arguments to min; returning Inf”\n",
      "Warning message in min(c(em$violations)):\n",
      "“no non-missing arguments to min; returning Inf”\n",
      "Warning message in min(c(em_1$violations)):\n",
      "“no non-missing arguments to min; returning Inf”\n",
      "Warning message in min(c(em$violations)):\n",
      "“no non-missing arguments to min; returning Inf”\n",
      "Warning message in min(c(em$violations)):\n",
      "“no non-missing arguments to min; returning Inf”\n",
      "Warning message in min(c(em$violations)):\n",
      "“no non-missing arguments to min; returning Inf”\n",
      "Warning message in min(c(em_1$violations)):\n",
      "“no non-missing arguments to min; returning Inf”\n",
      "Warning message in min(c(em$violations)):\n",
      "“no non-missing arguments to min; returning Inf”\n",
      "Warning message in min(c(em_1$violations)):\n",
      "“no non-missing arguments to min; returning Inf”\n",
      "Warning message in min(c(em$violations)):\n",
      "“no non-missing arguments to min; returning Inf”\n",
      "Warning message in min(c(em$violations)):\n",
      "“no non-missing arguments to min; returning Inf”\n",
      "Warning message in min(c(cu$violations$lower, cu$violations$upper)):\n",
      "“no non-missing arguments to min; returning Inf”\n",
      "Warning message in min(c(em$violations)):\n",
      "“no non-missing arguments to min; returning Inf”\n",
      "Warning message in min(c(em_1$violations)):\n",
      "“no non-missing arguments to min; returning Inf”\n",
      "Warning message in min(c(em$violations)):\n",
      "“no non-missing arguments to min; returning Inf”\n",
      "Warning message in min(c(em$violations)):\n",
      "“no non-missing arguments to min; returning Inf”\n",
      "Warning message in min(c(em_1$violations)):\n",
      "“no non-missing arguments to min; returning Inf”\n",
      "Warning message in min(c(em$violations)):\n",
      "“no non-missing arguments to min; returning Inf”\n",
      "Warning message in min(c(em_1$violations)):\n",
      "“no non-missing arguments to min; returning Inf”\n",
      "Warning message in min(c(em$violations)):\n",
      "“no non-missing arguments to min; returning Inf”\n",
      "Warning message in min(c(em$violations)):\n",
      "“no non-missing arguments to min; returning Inf”\n",
      "Warning message in min(c(em$violations)):\n",
      "“no non-missing arguments to min; returning Inf”\n",
      "Warning message in min(c(em$violations)):\n",
      "“no non-missing arguments to min; returning Inf”\n",
      "Warning message in min(c(em$violations)):\n",
      "“no non-missing arguments to min; returning Inf”\n",
      "Warning message in min(c(em_1$violations)):\n",
      "“no non-missing arguments to min; returning Inf”\n",
      "Warning message in min(c(em_1$violations)):\n",
      "“no non-missing arguments to min; returning Inf”\n",
      "Warning message in min(c(em$violations)):\n",
      "“no non-missing arguments to min; returning Inf”\n",
      "Warning message in min(c(em$violations)):\n",
      "“no non-missing arguments to min; returning Inf”\n",
      "Warning message in min(c(em$violations)):\n",
      "“no non-missing arguments to min; returning Inf”\n",
      "Warning message in min(c(em$violations)):\n",
      "“no non-missing arguments to min; returning Inf”\n",
      "Warning message in min(c(em_1$violations)):\n",
      "“no non-missing arguments to min; returning Inf”\n",
      "Warning message in min(c(em$violations)):\n",
      "“no non-missing arguments to min; returning Inf”\n",
      "Warning message in min(c(em$violations)):\n",
      "“no non-missing arguments to min; returning Inf”\n",
      "Warning message in min(c(em$violations)):\n",
      "“no non-missing arguments to min; returning Inf”\n",
      "Warning message in min(c(em_1$violations)):\n",
      "“no non-missing arguments to min; returning Inf”\n",
      "Warning message in min(c(em$violations)):\n",
      "“no non-missing arguments to min; returning Inf”\n",
      "Warning message in min(c(em_1$violations)):\n",
      "“no non-missing arguments to min; returning Inf”\n",
      "Warning message in min(c(em$violations)):\n",
      "“no non-missing arguments to min; returning Inf”\n",
      "Warning message in min(c(em$violations)):\n",
      "“no non-missing arguments to min; returning Inf”\n",
      "Warning message in min(c(em_1$violations)):\n",
      "“no non-missing arguments to min; returning Inf”\n",
      "Warning message in min(c(em$violations)):\n",
      "“no non-missing arguments to min; returning Inf”\n",
      "Warning message in min(c(em_1$violations)):\n",
      "“no non-missing arguments to min; returning Inf”\n",
      "Warning message in min(c(em_1$violations)):\n",
      "“no non-missing arguments to min; returning Inf”\n",
      "Warning message in min(c(em$violations)):\n",
      "“no non-missing arguments to min; returning Inf”\n",
      "Warning message in min(c(em$violations)):\n",
      "“no non-missing arguments to min; returning Inf”\n",
      "Warning message in min(c(em_1$violations)):\n",
      "“no non-missing arguments to min; returning Inf”\n",
      "Warning message in min(c(em$violations)):\n",
      "“no non-missing arguments to min; returning Inf”\n",
      "Warning message in min(c(em$violations)):\n",
      "“no non-missing arguments to min; returning Inf”\n",
      "Warning message in min(c(em_1$violations)):\n",
      "“no non-missing arguments to min; returning Inf”\n",
      "Warning message in min(c(em$violations)):\n",
      "“no non-missing arguments to min; returning Inf”\n",
      "Warning message in min(c(em$violations)):\n",
      "“no non-missing arguments to min; returning Inf”\n",
      "Warning message in min(c(em$violations)):\n",
      "“no non-missing arguments to min; returning Inf”\n",
      "Warning message in min(c(em_1$violations)):\n",
      "“no non-missing arguments to min; returning Inf”\n",
      "Warning message in min(c(em_2$violations)):\n",
      "“no non-missing arguments to min; returning Inf”\n",
      "Warning message in min(c(em$violations)):\n",
      "“no non-missing arguments to min; returning Inf”\n",
      "Warning message in min(c(em_1$violations)):\n",
      "“no non-missing arguments to min; returning Inf”\n",
      "Warning message in min(c(em$violations)):\n",
      "“no non-missing arguments to min; returning Inf”\n",
      "Warning message in min(c(em$violations)):\n",
      "“no non-missing arguments to min; returning Inf”\n",
      "Warning message in min(c(em$violations)):\n",
      "“no non-missing arguments to min; returning Inf”\n",
      "Warning message in min(c(em_1$violations)):\n",
      "“no non-missing arguments to min; returning Inf”\n",
      "Warning message in min(c(em$violations)):\n",
      "“no non-missing arguments to min; returning Inf”\n",
      "Warning message in min(c(em$violations)):\n",
      "“no non-missing arguments to min; returning Inf”\n",
      "Warning message in min(c(em$violations)):\n",
      "“no non-missing arguments to min; returning Inf”\n",
      "Warning message in min(c(em_1$violations)):\n",
      "“no non-missing arguments to min; returning Inf”\n",
      "Warning message in min(c(em$violations)):\n",
      "“no non-missing arguments to min; returning Inf”\n",
      "Warning message in min(c(em_1$violations)):\n",
      "“no non-missing arguments to min; returning Inf”\n",
      "Warning message in min(c(em$violations)):\n",
      "“no non-missing arguments to min; returning Inf”\n",
      "Warning message in min(c(em$violations)):\n",
      "“no non-missing arguments to min; returning Inf”\n",
      "Warning message in min(c(em$violations)):\n",
      "“no non-missing arguments to min; returning Inf”\n",
      "Warning message in min(c(em$violations)):\n",
      "“no non-missing arguments to min; returning Inf”\n",
      "Warning message in min(c(em_1$violations)):\n",
      "“no non-missing arguments to min; returning Inf”\n",
      "Warning message in min(c(em$violations)):\n",
      "“no non-missing arguments to min; returning Inf”\n",
      "Warning message in min(c(em_1$violations)):\n",
      "“no non-missing arguments to min; returning Inf”\n",
      "Warning message in min(c(em$violations)):\n",
      "“no non-missing arguments to min; returning Inf”\n",
      "Warning message in min(c(em$violations)):\n",
      "“no non-missing arguments to min; returning Inf”\n",
      "Warning message in min(c(em_1$violations)):\n",
      "“no non-missing arguments to min; returning Inf”\n",
      "Warning message in min(c(em$violations)):\n",
      "“no non-missing arguments to min; returning Inf”\n",
      "Warning message in min(c(em$violations)):\n",
      "“no non-missing arguments to min; returning Inf”\n",
      "Warning message in min(c(em_1$violations)):\n",
      "“no non-missing arguments to min; returning Inf”\n",
      "Warning message in min(c(em$violations)):\n",
      "“no non-missing arguments to min; returning Inf”\n",
      "Warning message in min(c(em$violations)):\n",
      "“no non-missing arguments to min; returning Inf”\n",
      "Warning message in min(c(em$violations)):\n",
      "“no non-missing arguments to min; returning Inf”\n",
      "Warning message in min(c(em_1$violations)):\n",
      "“no non-missing arguments to min; returning Inf”\n",
      "Warning message in min(c(cu$violations$lower, cu$violations$upper)):\n",
      "“no non-missing arguments to min; returning Inf”\n",
      "Warning message in min(c(em$violations)):\n",
      "“no non-missing arguments to min; returning Inf”\n",
      "Warning message in min(c(em_1$violations)):\n",
      "“no non-missing arguments to min; returning Inf”\n",
      "Warning message in min(c(em_2$violations)):\n",
      "“no non-missing arguments to min; returning Inf”\n",
      "Warning message in min(c(em$violations)):\n",
      "“no non-missing arguments to min; returning Inf”\n",
      "Warning message in min(c(em$violations)):\n",
      "“no non-missing arguments to min; returning Inf”\n",
      "Warning message in min(c(em_1$violations)):\n",
      "“no non-missing arguments to min; returning Inf”\n",
      "Warning message in min(c(em_2$violations)):\n",
      "“no non-missing arguments to min; returning Inf”\n",
      "Warning message in min(c(em$violations)):\n",
      "“no non-missing arguments to min; returning Inf”\n",
      "Warning message in min(c(em$violations)):\n",
      "“no non-missing arguments to min; returning Inf”\n",
      "Warning message in min(c(em$violations)):\n",
      "“no non-missing arguments to min; returning Inf”\n",
      "Warning message in min(c(em_1$violations)):\n",
      "“no non-missing arguments to min; returning Inf”\n",
      "Warning message in min(c(em$violations)):\n",
      "“no non-missing arguments to min; returning Inf”\n",
      "Warning message in min(c(em$violations)):\n",
      "“no non-missing arguments to min; returning Inf”\n",
      "Warning message in min(c(em$violations)):\n",
      "“no non-missing arguments to min; returning Inf”\n",
      "Warning message in min(c(em_1$violations)):\n",
      "“no non-missing arguments to min; returning Inf”\n",
      "Warning message in min(c(em$violations)):\n",
      "“no non-missing arguments to min; returning Inf”\n",
      "Warning message in min(c(em$violations)):\n",
      "“no non-missing arguments to min; returning Inf”\n",
      "Warning message in min(c(em$violations)):\n",
      "“no non-missing arguments to min; returning Inf”\n",
      "Warning message in min(c(em_1$violations)):\n",
      "“no non-missing arguments to min; returning Inf”\n",
      "Warning message in min(c(em_2$violations)):\n",
      "“no non-missing arguments to min; returning Inf”\n",
      "Warning message in min(c(em$violations)):\n",
      "“no non-missing arguments to min; returning Inf”\n",
      "Warning message in min(c(em_1$violations)):\n",
      "“no non-missing arguments to min; returning Inf”\n",
      "Warning message in min(c(em$violations)):\n",
      "“no non-missing arguments to min; returning Inf”\n",
      "Warning message in min(c(em$violations)):\n",
      "“no non-missing arguments to min; returning Inf”\n",
      "Warning message in min(c(em_1$violations)):\n",
      "“no non-missing arguments to min; returning Inf”\n",
      "Warning message in min(c(em$violations)):\n",
      "“no non-missing arguments to min; returning Inf”\n",
      "Warning message in min(c(em$violations)):\n",
      "“no non-missing arguments to min; returning Inf”\n",
      "Warning message in min(c(em$violations)):\n",
      "“no non-missing arguments to min; returning Inf”\n",
      "Warning message in min(c(em$violations)):\n",
      "“no non-missing arguments to min; returning Inf”\n",
      "Warning message in min(c(em$violations)):\n",
      "“no non-missing arguments to min; returning Inf”\n",
      "Warning message in min(c(em$violations)):\n",
      "“no non-missing arguments to min; returning Inf”\n",
      "Warning message in min(c(em_1$violations)):\n",
      "“no non-missing arguments to min; returning Inf”\n",
      "Warning message in min(c(em$violations)):\n",
      "“no non-missing arguments to min; returning Inf”\n",
      "Warning message in min(c(em_1$violations)):\n",
      "“no non-missing arguments to min; returning Inf”\n",
      "Warning message in min(c(em$violations)):\n",
      "“no non-missing arguments to min; returning Inf”\n",
      "Warning message in min(c(em_1$violations)):\n",
      "“no non-missing arguments to min; returning Inf”\n",
      "Warning message in min(c(cu$violations$lower, cu$violations$upper)):\n",
      "“no non-missing arguments to min; returning Inf”\n",
      "Warning message in min(c(em$violations)):\n",
      "“no non-missing arguments to min; returning Inf”\n",
      "Warning message in min(c(em_1$violations)):\n",
      "“no non-missing arguments to min; returning Inf”\n",
      "Warning message in min(c(em_2$violations)):\n",
      "“no non-missing arguments to min; returning Inf”\n",
      "Warning message in min(c(em$violations)):\n",
      "“no non-missing arguments to min; returning Inf”\n",
      "Warning message in min(c(em_1$violations)):\n",
      "“no non-missing arguments to min; returning Inf”\n",
      "Warning message in min(c(em$violations)):\n",
      "“no non-missing arguments to min; returning Inf”\n",
      "Warning message in min(c(em$violations)):\n",
      "“no non-missing arguments to min; returning Inf”\n",
      "Warning message in min(c(em$violations)):\n",
      "“no non-missing arguments to min; returning Inf”\n",
      "Warning message in min(c(em$violations)):\n",
      "“no non-missing arguments to min; returning Inf”\n",
      "Warning message in min(c(em$violations)):\n",
      "“no non-missing arguments to min; returning Inf”\n",
      "Warning message in min(c(em$violations)):\n",
      "“no non-missing arguments to min; returning Inf”\n",
      "Warning message in min(c(em$violations)):\n",
      "“no non-missing arguments to min; returning Inf”\n",
      "Warning message in min(c(em$violations)):\n",
      "“no non-missing arguments to min; returning Inf”\n",
      "Warning message in min(c(em$violations)):\n",
      "“no non-missing arguments to min; returning Inf”\n",
      "Warning message in min(c(em_2$violations)):\n",
      "“no non-missing arguments to min; returning Inf”\n",
      "Warning message in min(c(em$violations)):\n",
      "“no non-missing arguments to min; returning Inf”\n",
      "Warning message in min(c(em$violations)):\n",
      "“no non-missing arguments to min; returning Inf”\n",
      "Warning message in min(c(em_1$violations)):\n",
      "“no non-missing arguments to min; returning Inf”\n",
      "Warning message in min(c(em$violations)):\n",
      "“no non-missing arguments to min; returning Inf”\n",
      "Warning message in min(c(em$violations)):\n",
      "“no non-missing arguments to min; returning Inf”\n",
      "Warning message in min(c(em_1$violations)):\n",
      "“no non-missing arguments to min; returning Inf”\n",
      "Warning message in min(c(em$violations)):\n",
      "“no non-missing arguments to min; returning Inf”\n",
      "Warning message in min(c(em$violations)):\n",
      "“no non-missing arguments to min; returning Inf”\n",
      "Warning message in min(c(em$violations)):\n",
      "“no non-missing arguments to min; returning Inf”\n",
      "Warning message in min(c(em$violations)):\n",
      "“no non-missing arguments to min; returning Inf”\n",
      "Warning message in min(c(em$violations)):\n",
      "“no non-missing arguments to min; returning Inf”\n",
      "Warning message in min(c(em$violations)):\n",
      "“no non-missing arguments to min; returning Inf”\n",
      "Warning message in min(c(em$violations)):\n",
      "“no non-missing arguments to min; returning Inf”\n",
      "Warning message in min(c(em$violations)):\n",
      "“no non-missing arguments to min; returning Inf”\n",
      "Warning message in min(c(em_1$violations)):\n",
      "“no non-missing arguments to min; returning Inf”\n",
      "Warning message in min(c(em$violations)):\n",
      "“no non-missing arguments to min; returning Inf”\n",
      "Warning message in min(c(em$violations)):\n",
      "“no non-missing arguments to min; returning Inf”\n",
      "Warning message in min(c(em$violations)):\n",
      "“no non-missing arguments to min; returning Inf”\n",
      "Warning message in min(c(em_1$violations)):\n",
      "“no non-missing arguments to min; returning Inf”\n",
      "Warning message in min(c(em$violations)):\n",
      "“no non-missing arguments to min; returning Inf”\n",
      "Warning message in min(c(em$violations)):\n",
      "“no non-missing arguments to min; returning Inf”\n",
      "Warning message in min(c(em_1$violations)):\n",
      "“no non-missing arguments to min; returning Inf”\n",
      "Warning message in min(c(em$violations)):\n",
      "“no non-missing arguments to min; returning Inf”\n",
      "Warning message in min(c(em_1$violations)):\n",
      "“no non-missing arguments to min; returning Inf”\n",
      "Warning message in min(c(em$violations)):\n",
      "“no non-missing arguments to min; returning Inf”\n",
      "Warning message in min(c(em$violations)):\n",
      "“no non-missing arguments to min; returning Inf”\n",
      "Warning message in min(c(em$violations)):\n",
      "“no non-missing arguments to min; returning Inf”\n",
      "Warning message in min(c(em_1$violations)):\n",
      "“no non-missing arguments to min; returning Inf”\n",
      "Warning message in min(c(em$violations)):\n",
      "“no non-missing arguments to min; returning Inf”\n",
      "Warning message in min(c(em$violations)):\n",
      "“no non-missing arguments to min; returning Inf”\n",
      "Warning message in min(c(em_1$violations)):\n",
      "“no non-missing arguments to min; returning Inf”\n",
      "Warning message in min(c(em$violations)):\n",
      "“no non-missing arguments to min; returning Inf”\n",
      "Warning message in min(c(em$violations)):\n",
      "“no non-missing arguments to min; returning Inf”\n",
      "Warning message in min(c(em$violations)):\n",
      "“no non-missing arguments to min; returning Inf”\n",
      "Warning message in min(c(em_1$violations)):\n",
      "“no non-missing arguments to min; returning Inf”\n",
      "Warning message in min(c(em$violations)):\n",
      "“no non-missing arguments to min; returning Inf”\n",
      "Warning message in min(c(em$violations)):\n",
      "“no non-missing arguments to min; returning Inf”\n",
      "Warning message in min(c(em$violations)):\n",
      "“no non-missing arguments to min; returning Inf”\n",
      "Warning message in min(c(em_1$violations)):\n",
      "“no non-missing arguments to min; returning Inf”\n",
      "Warning message in min(c(em$violations)):\n",
      "“no non-missing arguments to min; returning Inf”\n",
      "Warning message in min(c(em$violations)):\n",
      "“no non-missing arguments to min; returning Inf”\n",
      "Warning message in min(c(em_1$violations)):\n",
      "“no non-missing arguments to min; returning Inf”\n",
      "Warning message in min(c(em$violations)):\n",
      "“no non-missing arguments to min; returning Inf”\n",
      "Warning message in min(c(em$violations)):\n",
      "“no non-missing arguments to min; returning Inf”\n",
      "Warning message in min(c(em$violations)):\n",
      "“no non-missing arguments to min; returning Inf”\n",
      "Warning message in min(c(em$violations)):\n",
      "“no non-missing arguments to min; returning Inf”\n",
      "Warning message in min(c(em$violations)):\n",
      "“no non-missing arguments to min; returning Inf”\n",
      "Warning message in min(c(em$violations)):\n",
      "“no non-missing arguments to min; returning Inf”\n",
      "Warning message in min(c(em_2$violations)):\n",
      "“no non-missing arguments to min; returning Inf”\n",
      "Warning message in min(c(em$violations)):\n",
      "“no non-missing arguments to min; returning Inf”\n",
      "Warning message in min(c(em$violations)):\n",
      "“no non-missing arguments to min; returning Inf”\n",
      "Warning message in min(c(em$violations)):\n",
      "“no non-missing arguments to min; returning Inf”\n",
      "Warning message in min(c(em$violations)):\n",
      "“no non-missing arguments to min; returning Inf”\n",
      "Warning message in min(c(em$violations)):\n",
      "“no non-missing arguments to min; returning Inf”\n",
      "Warning message in min(c(em$violations)):\n",
      "“no non-missing arguments to min; returning Inf”\n",
      "Warning message in min(c(em$violations)):\n",
      "“no non-missing arguments to min; returning Inf”\n",
      "Warning message in min(c(em$violations)):\n",
      "“no non-missing arguments to min; returning Inf”\n",
      "Warning message in min(c(em$violations)):\n",
      "“no non-missing arguments to min; returning Inf”\n",
      "Warning message in min(c(em$violations)):\n",
      "“no non-missing arguments to min; returning Inf”\n",
      "Warning message in min(c(em_1$violations)):\n",
      "“no non-missing arguments to min; returning Inf”\n",
      "Warning message in min(c(em$violations)):\n",
      "“no non-missing arguments to min; returning Inf”\n",
      "Warning message in min(c(em$violations)):\n",
      "“no non-missing arguments to min; returning Inf”\n",
      "Warning message in min(c(em_1$violations)):\n",
      "“no non-missing arguments to min; returning Inf”\n",
      "Warning message in min(c(cu$violations$lower, cu$violations$upper)):\n",
      "“no non-missing arguments to min; returning Inf”\n",
      "Warning message in min(c(em$violations)):\n",
      "“no non-missing arguments to min; returning Inf”\n",
      "Warning message in min(c(em_1$violations)):\n",
      "“no non-missing arguments to min; returning Inf”\n",
      "Warning message in min(c(em_2$violations)):\n",
      "“no non-missing arguments to min; returning Inf”\n",
      "Warning message in min(c(em$violations)):\n",
      "“no non-missing arguments to min; returning Inf”\n",
      "Warning message in min(c(em_1$violations)):\n",
      "“no non-missing arguments to min; returning Inf”\n",
      "Warning message in min(c(em$violations)):\n",
      "“no non-missing arguments to min; returning Inf”\n",
      "Warning message in min(c(em$violations)):\n",
      "“no non-missing arguments to min; returning Inf”\n",
      "Warning message in min(c(em$violations)):\n",
      "“no non-missing arguments to min; returning Inf”\n",
      "Warning message in min(c(em$violations)):\n",
      "“no non-missing arguments to min; returning Inf”\n",
      "Warning message in min(c(em_1$violations)):\n",
      "“no non-missing arguments to min; returning Inf”\n",
      "Warning message in min(c(em$violations)):\n",
      "“no non-missing arguments to min; returning Inf”\n",
      "Warning message in min(c(em$violations)):\n",
      "“no non-missing arguments to min; returning Inf”\n",
      "Warning message in min(c(em$violations)):\n",
      "“no non-missing arguments to min; returning Inf”\n",
      "Warning message in min(c(em$violations)):\n",
      "“no non-missing arguments to min; returning Inf”\n",
      "Warning message in min(c(em$violations)):\n",
      "“no non-missing arguments to min; returning Inf”\n",
      "Warning message in min(c(em$violations)):\n",
      "“no non-missing arguments to min; returning Inf”\n",
      "Warning message in min(c(em$violations)):\n",
      "“no non-missing arguments to min; returning Inf”\n",
      "Warning message in min(c(em_1$violations)):\n",
      "“no non-missing arguments to min; returning Inf”\n",
      "Warning message in min(c(em$violations)):\n",
      "“no non-missing arguments to min; returning Inf”\n",
      "Warning message in min(c(em$violations)):\n",
      "“no non-missing arguments to min; returning Inf”\n",
      "Warning message in min(c(em$violations)):\n",
      "“no non-missing arguments to min; returning Inf”\n",
      "Warning message in min(c(cu$violations$lower, cu$violations$upper)):\n",
      "“no non-missing arguments to min; returning Inf”\n",
      "Warning message in min(c(em$violations)):\n",
      "“no non-missing arguments to min; returning Inf”\n",
      "Warning message in min(c(em_1$violations)):\n",
      "“no non-missing arguments to min; returning Inf”\n",
      "Warning message in min(c(em$violations)):\n",
      "“no non-missing arguments to min; returning Inf”\n",
      "Warning message in min(c(em_1$violations)):\n",
      "“no non-missing arguments to min; returning Inf”\n",
      "Warning message in min(c(em$violations)):\n",
      "“no non-missing arguments to min; returning Inf”\n",
      "Warning message in min(c(em$violations)):\n",
      "“no non-missing arguments to min; returning Inf”\n",
      "Warning message in min(c(em$violations)):\n",
      "“no non-missing arguments to min; returning Inf”\n",
      "Warning message in min(c(em$violations)):\n",
      "“no non-missing arguments to min; returning Inf”\n",
      "Warning message in min(c(em_1$violations)):\n",
      "“no non-missing arguments to min; returning Inf”\n",
      "Warning message in min(c(em$violations)):\n",
      "“no non-missing arguments to min; returning Inf”\n",
      "Warning message in min(c(em$violations)):\n",
      "“no non-missing arguments to min; returning Inf”\n",
      "Warning message in min(c(em$violations)):\n",
      "“no non-missing arguments to min; returning Inf”\n",
      "Warning message in min(c(em$violations)):\n",
      "“no non-missing arguments to min; returning Inf”\n",
      "Warning message in min(c(em$violations)):\n",
      "“no non-missing arguments to min; returning Inf”\n",
      "Warning message in min(c(em$violations)):\n",
      "“no non-missing arguments to min; returning Inf”\n",
      "Warning message in min(c(em$violations)):\n",
      "“no non-missing arguments to min; returning Inf”\n",
      "Warning message in min(c(em$violations)):\n",
      "“no non-missing arguments to min; returning Inf”\n",
      "Warning message in min(c(em$violations)):\n",
      "“no non-missing arguments to min; returning Inf”\n",
      "Warning message in min(c(em$violations)):\n",
      "“no non-missing arguments to min; returning Inf”\n",
      "Warning message in min(c(em_1$violations)):\n",
      "“no non-missing arguments to min; returning Inf”\n",
      "Warning message in min(c(em$violations)):\n",
      "“no non-missing arguments to min; returning Inf”\n",
      "Warning message in min(c(em_1$violations)):\n",
      "“no non-missing arguments to min; returning Inf”\n",
      "Warning message in min(c(em$violations)):\n",
      "“no non-missing arguments to min; returning Inf”\n",
      "Warning message in min(c(em_1$violations)):\n",
      "“no non-missing arguments to min; returning Inf”\n",
      "Warning message in min(c(em_2$violations)):\n",
      "“no non-missing arguments to min; returning Inf”\n",
      "Warning message in min(c(em$violations)):\n",
      "“no non-missing arguments to min; returning Inf”\n",
      "Warning message in min(c(em_1$violations)):\n",
      "“no non-missing arguments to min; returning Inf”\n",
      "Warning message in min(c(em$violations)):\n",
      "“no non-missing arguments to min; returning Inf”\n",
      "Warning message in min(c(em_1$violations)):\n",
      "“no non-missing arguments to min; returning Inf”\n",
      "Warning message in min(c(em$violations)):\n",
      "“no non-missing arguments to min; returning Inf”\n",
      "Warning message in min(c(em_1$violations)):\n",
      "“no non-missing arguments to min; returning Inf”\n",
      "Warning message in min(c(em$violations)):\n",
      "“no non-missing arguments to min; returning Inf”\n",
      "Warning message in min(c(em_1$violations)):\n",
      "“no non-missing arguments to min; returning Inf”\n",
      "Warning message in min(c(em$violations)):\n",
      "“no non-missing arguments to min; returning Inf”\n",
      "Warning message in min(c(em$violations)):\n",
      "“no non-missing arguments to min; returning Inf”\n",
      "Warning message in min(c(em$violations)):\n",
      "“no non-missing arguments to min; returning Inf”\n",
      "Warning message in min(c(em$violations)):\n",
      "“no non-missing arguments to min; returning Inf”\n",
      "Warning message in min(c(em_1$violations)):\n",
      "“no non-missing arguments to min; returning Inf”\n",
      "Warning message in min(c(em$violations)):\n",
      "“no non-missing arguments to min; returning Inf”\n",
      "Warning message in min(c(em$violations)):\n",
      "“no non-missing arguments to min; returning Inf”\n",
      "Warning message in min(c(em$violations)):\n",
      "“no non-missing arguments to min; returning Inf”\n",
      "Warning message in min(c(em$violations)):\n",
      "“no non-missing arguments to min; returning Inf”\n",
      "Warning message in min(c(em$violations)):\n",
      "“no non-missing arguments to min; returning Inf”\n",
      "Warning message in min(c(em_1$violations)):\n",
      "“no non-missing arguments to min; returning Inf”\n",
      "Warning message in min(c(em$violations)):\n",
      "“no non-missing arguments to min; returning Inf”\n",
      "Warning message in min(c(em$violations)):\n",
      "“no non-missing arguments to min; returning Inf”\n",
      "Warning message in min(c(em$violations)):\n",
      "“no non-missing arguments to min; returning Inf”\n",
      "Warning message in min(c(em$violations)):\n",
      "“no non-missing arguments to min; returning Inf”\n",
      "Warning message in min(c(em$violations)):\n",
      "“no non-missing arguments to min; returning Inf”\n",
      "Warning message in min(c(em$violations)):\n",
      "“no non-missing arguments to min; returning Inf”\n",
      "Warning message in min(c(em$violations)):\n",
      "“no non-missing arguments to min; returning Inf”\n",
      "Warning message in min(c(em$violations)):\n",
      "“no non-missing arguments to min; returning Inf”\n",
      "Warning message in min(c(em_1$violations)):\n",
      "“no non-missing arguments to min; returning Inf”\n",
      "Warning message in min(c(em$violations)):\n",
      "“no non-missing arguments to min; returning Inf”\n",
      "Warning message in min(c(em$violations)):\n",
      "“no non-missing arguments to min; returning Inf”\n",
      "Warning message in min(c(em_1$violations)):\n",
      "“no non-missing arguments to min; returning Inf”\n",
      "Warning message in min(c(em_1$violations)):\n",
      "“no non-missing arguments to min; returning Inf”\n",
      "Warning message in min(c(em$violations)):\n",
      "“no non-missing arguments to min; returning Inf”\n",
      "Warning message in min(c(em_1$violations)):\n",
      "“no non-missing arguments to min; returning Inf”\n",
      "Warning message in min(c(em$violations)):\n",
      "“no non-missing arguments to min; returning Inf”\n",
      "Warning message in min(c(em_1$violations)):\n",
      "“no non-missing arguments to min; returning Inf”\n",
      "Warning message in min(c(em$violations)):\n",
      "“no non-missing arguments to min; returning Inf”\n",
      "Warning message in min(c(em$violations)):\n",
      "“no non-missing arguments to min; returning Inf”\n",
      "Warning message in min(c(em$violations)):\n",
      "“no non-missing arguments to min; returning Inf”\n",
      "Warning message in min(c(em_1$violations)):\n",
      "“no non-missing arguments to min; returning Inf”\n",
      "Warning message in min(c(em$violations)):\n",
      "“no non-missing arguments to min; returning Inf”\n",
      "Warning message in min(c(em$violations)):\n",
      "“no non-missing arguments to min; returning Inf”\n",
      "Warning message in min(c(em$violations)):\n",
      "“no non-missing arguments to min; returning Inf”\n",
      "Warning message in min(c(em$violations)):\n",
      "“no non-missing arguments to min; returning Inf”\n",
      "Warning message in min(c(em$violations)):\n",
      "“no non-missing arguments to min; returning Inf”\n",
      "Warning message in min(c(em_1$violations)):\n",
      "“no non-missing arguments to min; returning Inf”\n",
      "Warning message in min(c(em_2$violations)):\n",
      "“no non-missing arguments to min; returning Inf”\n",
      "Warning message in min(c(em$violations)):\n",
      "“no non-missing arguments to min; returning Inf”\n",
      "Warning message in min(c(em$violations)):\n",
      "“no non-missing arguments to min; returning Inf”\n",
      "Warning message in min(c(em$violations)):\n",
      "“no non-missing arguments to min; returning Inf”\n",
      "Warning message in min(c(em_1$violations)):\n",
      "“no non-missing arguments to min; returning Inf”\n",
      "Warning message in min(c(em$violations)):\n",
      "“no non-missing arguments to min; returning Inf”\n",
      "Warning message in min(c(em$violations)):\n",
      "“no non-missing arguments to min; returning Inf”\n",
      "Warning message in min(c(em$violations)):\n",
      "“no non-missing arguments to min; returning Inf”\n",
      "Warning message in min(c(em_1$violations)):\n",
      "“no non-missing arguments to min; returning Inf”\n",
      "Warning message in min(c(em$violations)):\n",
      "“no non-missing arguments to min; returning Inf”\n",
      "Warning message in min(c(em$violations)):\n",
      "“no non-missing arguments to min; returning Inf”\n",
      "Warning message in min(c(em$violations)):\n",
      "“no non-missing arguments to min; returning Inf”\n",
      "Warning message in min(c(em$violations)):\n",
      "“no non-missing arguments to min; returning Inf”\n",
      "Warning message in min(c(em_1$violations)):\n",
      "“no non-missing arguments to min; returning Inf”\n",
      "Warning message in min(c(em$violations)):\n",
      "“no non-missing arguments to min; returning Inf”\n",
      "Warning message in min(c(em_1$violations)):\n",
      "“no non-missing arguments to min; returning Inf”\n",
      "Warning message in min(c(cu$violations$lower, cu$violations$upper)):\n",
      "“no non-missing arguments to min; returning Inf”\n",
      "Warning message in min(c(em$violations)):\n",
      "“no non-missing arguments to min; returning Inf”\n",
      "Warning message in min(c(em_1$violations)):\n",
      "“no non-missing arguments to min; returning Inf”\n",
      "Warning message in min(c(em$violations)):\n",
      "“no non-missing arguments to min; returning Inf”\n",
      "Warning message in min(c(em$violations)):\n",
      "“no non-missing arguments to min; returning Inf”\n",
      "Warning message in min(c(em_1$violations)):\n",
      "“no non-missing arguments to min; returning Inf”\n",
      "Warning message in min(c(em$violations)):\n",
      "“no non-missing arguments to min; returning Inf”\n",
      "Warning message in min(c(em_1$violations)):\n",
      "“no non-missing arguments to min; returning Inf”\n",
      "Warning message in min(c(em$violations)):\n",
      "“no non-missing arguments to min; returning Inf”\n",
      "Warning message in min(c(em$violations)):\n",
      "“no non-missing arguments to min; returning Inf”\n",
      "Warning message in min(c(em$violations)):\n",
      "“no non-missing arguments to min; returning Inf”\n",
      "Warning message in min(c(em$violations)):\n",
      "“no non-missing arguments to min; returning Inf”\n",
      "Warning message in min(c(em$violations)):\n",
      "“no non-missing arguments to min; returning Inf”\n",
      "Warning message in min(c(em$violations)):\n",
      "“no non-missing arguments to min; returning Inf”\n",
      "Warning message in min(c(em$violations)):\n",
      "“no non-missing arguments to min; returning Inf”\n",
      "Warning message in min(c(em$violations)):\n",
      "“no non-missing arguments to min; returning Inf”\n",
      "Warning message in min(c(em$violations)):\n",
      "“no non-missing arguments to min; returning Inf”\n",
      "Warning message in min(c(em$violations)):\n",
      "“no non-missing arguments to min; returning Inf”\n",
      "Warning message in min(c(em_1$violations)):\n",
      "“no non-missing arguments to min; returning Inf”\n",
      "Warning message in min(c(em$violations)):\n",
      "“no non-missing arguments to min; returning Inf”\n",
      "Warning message in min(c(em$violations)):\n",
      "“no non-missing arguments to min; returning Inf”\n",
      "Warning message in min(c(em_1$violations)):\n",
      "“no non-missing arguments to min; returning Inf”\n",
      "Warning message in min(c(em$violations)):\n",
      "“no non-missing arguments to min; returning Inf”\n",
      "Warning message in min(c(em$violations)):\n",
      "“no non-missing arguments to min; returning Inf”\n",
      "Warning message in min(c(em$violations)):\n",
      "“no non-missing arguments to min; returning Inf”\n",
      "Warning message in min(c(em$violations)):\n",
      "“no non-missing arguments to min; returning Inf”\n",
      "Warning message in min(c(em_1$violations)):\n",
      "“no non-missing arguments to min; returning Inf”\n",
      "Warning message in min(c(em$violations)):\n",
      "“no non-missing arguments to min; returning Inf”\n",
      "Warning message in min(c(em$violations)):\n",
      "“no non-missing arguments to min; returning Inf”\n",
      "Warning message in min(c(em$violations)):\n",
      "“no non-missing arguments to min; returning Inf”\n",
      "Warning message in min(c(em_1$violations)):\n",
      "“no non-missing arguments to min; returning Inf”\n",
      "Warning message in min(c(em$violations)):\n",
      "“no non-missing arguments to min; returning Inf”\n",
      "Warning message in min(c(em_1$violations)):\n",
      "“no non-missing arguments to min; returning Inf”\n",
      "Warning message in min(c(em$violations)):\n",
      "“no non-missing arguments to min; returning Inf”\n",
      "Warning message in min(c(em_1$violations)):\n",
      "“no non-missing arguments to min; returning Inf”\n",
      "Warning message in min(c(em_2$violations)):\n",
      "“no non-missing arguments to min; returning Inf”\n",
      "Warning message in min(c(em$violations)):\n",
      "“no non-missing arguments to min; returning Inf”\n",
      "Warning message in min(c(em$violations)):\n",
      "“no non-missing arguments to min; returning Inf”\n",
      "Warning message in min(c(em_1$violations)):\n",
      "“no non-missing arguments to min; returning Inf”\n",
      "Warning message in min(c(em$violations)):\n",
      "“no non-missing arguments to min; returning Inf”\n",
      "Warning message in min(c(em_1$violations)):\n",
      "“no non-missing arguments to min; returning Inf”\n",
      "Warning message in min(c(em$violations)):\n",
      "“no non-missing arguments to min; returning Inf”\n",
      "Warning message in min(c(em_1$violations)):\n",
      "“no non-missing arguments to min; returning Inf”\n",
      "Warning message in min(c(em$violations)):\n",
      "“no non-missing arguments to min; returning Inf”\n",
      "Warning message in min(c(em$violations)):\n",
      "“no non-missing arguments to min; returning Inf”\n",
      "Warning message in min(c(em$violations)):\n",
      "“no non-missing arguments to min; returning Inf”\n",
      "Warning message in min(c(cu$violations$lower, cu$violations$upper)):\n",
      "“no non-missing arguments to min; returning Inf”\n",
      "Warning message in min(c(em$violations)):\n",
      "“no non-missing arguments to min; returning Inf”\n",
      "Warning message in min(c(em_1$violations)):\n",
      "“no non-missing arguments to min; returning Inf”\n",
      "Warning message in min(c(em$violations)):\n",
      "“no non-missing arguments to min; returning Inf”\n",
      "Warning message in min(c(em_1$violations)):\n",
      "“no non-missing arguments to min; returning Inf”\n",
      "Warning message in min(c(em$violations)):\n",
      "“no non-missing arguments to min; returning Inf”\n",
      "Warning message in min(c(em_1$violations)):\n",
      "“no non-missing arguments to min; returning Inf”\n",
      "Warning message in min(c(em$violations)):\n",
      "“no non-missing arguments to min; returning Inf”\n",
      "Warning message in min(c(em_1$violations)):\n",
      "“no non-missing arguments to min; returning Inf”\n",
      "Warning message in min(c(em$violations)):\n",
      "“no non-missing arguments to min; returning Inf”\n",
      "Warning message in min(c(em$violations)):\n",
      "“no non-missing arguments to min; returning Inf”\n",
      "Warning message in min(c(em$violations)):\n",
      "“no non-missing arguments to min; returning Inf”\n",
      "Warning message in min(c(em$violations)):\n",
      "“no non-missing arguments to min; returning Inf”\n",
      "Warning message in min(c(em$violations)):\n",
      "“no non-missing arguments to min; returning Inf”\n",
      "Warning message in min(c(em$violations)):\n",
      "“no non-missing arguments to min; returning Inf”\n",
      "Warning message in min(c(em_1$violations)):\n",
      "“no non-missing arguments to min; returning Inf”\n",
      "Warning message in min(c(em$violations)):\n",
      "“no non-missing arguments to min; returning Inf”\n",
      "Warning message in min(c(em$violations)):\n",
      "“no non-missing arguments to min; returning Inf”\n",
      "Warning message in min(c(em_1$violations)):\n",
      "“no non-missing arguments to min; returning Inf”\n",
      "Warning message in min(c(em$violations)):\n",
      "“no non-missing arguments to min; returning Inf”\n",
      "Warning message in min(c(em$violations)):\n",
      "“no non-missing arguments to min; returning Inf”\n",
      "Warning message in min(c(em$violations)):\n",
      "“no non-missing arguments to min; returning Inf”\n",
      "Warning message in min(c(em$violations)):\n",
      "“no non-missing arguments to min; returning Inf”\n",
      "Warning message in min(c(em$violations)):\n",
      "“no non-missing arguments to min; returning Inf”\n",
      "Warning message in min(c(em$violations)):\n",
      "“no non-missing arguments to min; returning Inf”\n",
      "Warning message in min(c(em_1$violations)):\n",
      "“no non-missing arguments to min; returning Inf”\n",
      "Warning message in min(c(em$violations)):\n",
      "“no non-missing arguments to min; returning Inf”\n",
      "Warning message in min(c(em$violations)):\n",
      "“no non-missing arguments to min; returning Inf”\n",
      "Warning message in min(c(em$violations)):\n",
      "“no non-missing arguments to min; returning Inf”\n",
      "Warning message in min(c(em$violations)):\n",
      "“no non-missing arguments to min; returning Inf”\n",
      "Warning message in min(c(em_1$violations)):\n",
      "“no non-missing arguments to min; returning Inf”\n",
      "Warning message in min(c(em$violations)):\n",
      "“no non-missing arguments to min; returning Inf”\n",
      "Warning message in min(c(em_1$violations)):\n",
      "“no non-missing arguments to min; returning Inf”\n",
      "Warning message in min(c(em$violations)):\n",
      "“no non-missing arguments to min; returning Inf”\n",
      "Warning message in min(c(em_1$violations)):\n",
      "“no non-missing arguments to min; returning Inf”\n",
      "Warning message in min(c(em$violations)):\n",
      "“no non-missing arguments to min; returning Inf”\n",
      "Warning message in min(c(em$violations)):\n",
      "“no non-missing arguments to min; returning Inf”\n",
      "Warning message in min(c(em_1$violations)):\n",
      "“no non-missing arguments to min; returning Inf”\n",
      "Warning message in min(c(em$violations)):\n",
      "“no non-missing arguments to min; returning Inf”\n",
      "Warning message in min(c(em_1$violations)):\n",
      "“no non-missing arguments to min; returning Inf”\n",
      "Warning message in min(c(em$violations)):\n",
      "“no non-missing arguments to min; returning Inf”\n",
      "Warning message in min(c(em$violations)):\n",
      "“no non-missing arguments to min; returning Inf”\n",
      "Warning message in min(c(em$violations)):\n",
      "“no non-missing arguments to min; returning Inf”\n",
      "Warning message in min(c(em_1$violations)):\n",
      "“no non-missing arguments to min; returning Inf”\n",
      "Warning message in min(c(em$violations)):\n",
      "“no non-missing arguments to min; returning Inf”\n",
      "Warning message in min(c(em$violations)):\n",
      "“no non-missing arguments to min; returning Inf”\n",
      "Warning message in min(c(em$violations)):\n",
      "“no non-missing arguments to min; returning Inf”\n",
      "Warning message in min(c(em$violations)):\n",
      "“no non-missing arguments to min; returning Inf”\n",
      "Warning message in min(c(em$violations)):\n",
      "“no non-missing arguments to min; returning Inf”\n",
      "Warning message in min(c(em$violations)):\n",
      "“no non-missing arguments to min; returning Inf”\n",
      "Warning message in min(c(em_1$violations)):\n",
      "“no non-missing arguments to min; returning Inf”\n",
      "Warning message in min(c(em$violations)):\n",
      "“no non-missing arguments to min; returning Inf”\n",
      "Warning message in min(c(em$violations)):\n",
      "“no non-missing arguments to min; returning Inf”\n",
      "Warning message in min(c(em$violations)):\n",
      "“no non-missing arguments to min; returning Inf”\n",
      "Warning message in min(c(em$violations)):\n",
      "“no non-missing arguments to min; returning Inf”\n",
      "Warning message in min(c(em_1$violations)):\n",
      "“no non-missing arguments to min; returning Inf”\n",
      "Warning message in min(c(em$violations)):\n",
      "“no non-missing arguments to min; returning Inf”\n",
      "Warning message in min(c(em_1$violations)):\n",
      "“no non-missing arguments to min; returning Inf”\n",
      "Warning message in min(c(em$violations)):\n",
      "“no non-missing arguments to min; returning Inf”\n",
      "Warning message in min(c(em_1$violations)):\n",
      "“no non-missing arguments to min; returning Inf”\n",
      "Warning message in min(c(em$violations)):\n",
      "“no non-missing arguments to min; returning Inf”\n",
      "Warning message in min(c(em$violations)):\n",
      "“no non-missing arguments to min; returning Inf”\n",
      "Warning message in min(c(em$violations)):\n",
      "“no non-missing arguments to min; returning Inf”\n",
      "Warning message in min(c(em$violations)):\n",
      "“no non-missing arguments to min; returning Inf”\n",
      "Warning message in min(c(em$violations)):\n",
      "“no non-missing arguments to min; returning Inf”\n",
      "Warning message in min(c(em$violations)):\n",
      "“no non-missing arguments to min; returning Inf”\n"
     ]
    }
   ],
   "source": [
    "for(i in 1:1000){\n",
    "   \n",
    "    x <- rbeta(1000, 5, 1)\n",
    "    sh <- qcc(x, type='xbar.one', plot=FALSE)\n",
    "    cu <- cusum(x, se.shift = 1, plot=FALSE)\n",
    "    cu_5 <- cusum(x, se.shift = 0.5, plot=FALSE)\n",
    "    em <- ewma(x, lambda = 0.05, plot=FALSE)\n",
    "    em_1 <- ewma(x, lambda = 0.1, plot=FALSE)\n",
    "    em_2 <- ewma(x, lambda = 0.2, plot=FALSE)\n",
    "                  \n",
    "    RL_shewhart<-c(RL_shewhart,min(c(sh$violations$beyond.limits)))\n",
    "    RL_cusum<-c(RL_cusum,min(c(cu$violations$lower,cu$violations$upper)))\n",
    "    RL_cusum_5<-c(RL_cusum_5,min(c(cu_5$violations$lower,cu_5$violations$upper)))\n",
    "    RL_ewma<-c(RL_ewma,min(c(em$violations)))\n",
    "    RL_ewma_1<-c(RL_ewma_1,min(c(em_1$violations)))\n",
    "    RL_ewma_2<-c(RL_ewma_2,min(c(em_2$violations)))\n",
    "   \n",
    "}"
   ]
  },
  {
   "cell_type": "code",
   "execution_count": 25,
   "id": "5738666f-6763-4003-b014-4f70a0f7254d",
   "metadata": {
    "vscode": {
     "languageId": "r"
    }
   },
   "outputs": [
    {
     "data": {
      "text/html": [
       "66.509"
      ],
      "text/latex": [
       "66.509"
      ],
      "text/markdown": [
       "66.509"
      ],
      "text/plain": [
       "[1] 66.509"
      ]
     },
     "metadata": {},
     "output_type": "display_data"
    },
    {
     "data": {
      "text/html": [
       "Inf"
      ],
      "text/latex": [
       "Inf"
      ],
      "text/markdown": [
       "Inf"
      ],
      "text/plain": [
       "[1] Inf"
      ]
     },
     "metadata": {},
     "output_type": "display_data"
    },
    {
     "data": {
      "text/html": [
       "57.994"
      ],
      "text/latex": [
       "57.994"
      ],
      "text/markdown": [
       "57.994"
      ],
      "text/plain": [
       "[1] 57.994"
      ]
     },
     "metadata": {},
     "output_type": "display_data"
    },
    {
     "data": {
      "text/html": [
       "Inf"
      ],
      "text/latex": [
       "Inf"
      ],
      "text/markdown": [
       "Inf"
      ],
      "text/plain": [
       "[1] Inf"
      ]
     },
     "metadata": {},
     "output_type": "display_data"
    },
    {
     "data": {
      "text/html": [
       "Inf"
      ],
      "text/latex": [
       "Inf"
      ],
      "text/markdown": [
       "Inf"
      ],
      "text/plain": [
       "[1] Inf"
      ]
     },
     "metadata": {},
     "output_type": "display_data"
    },
    {
     "data": {
      "text/html": [
       "Inf"
      ],
      "text/latex": [
       "Inf"
      ],
      "text/markdown": [
       "Inf"
      ],
      "text/plain": [
       "[1] Inf"
      ]
     },
     "metadata": {},
     "output_type": "display_data"
    }
   ],
   "source": [
    "mean(RL_shewhart)\n",
    "mean(RL_cusum)\n",
    "mean(RL_cusum_5)\n",
    "mean(RL_ewma)\n",
    "mean(RL_ewma_1)\n",
    "mean(RL_ewma_2)"
   ]
  },
  {
   "cell_type": "markdown",
   "id": "8919a1f2-d0a9-4d38-a826-03af729edbf0",
   "metadata": {},
   "source": [
    "(5) t-distribution"
   ]
  },
  {
   "cell_type": "code",
   "execution_count": 26,
   "id": "e68f0177-533b-415e-abed-0556b70384e4",
   "metadata": {
    "vscode": {
     "languageId": "r"
    }
   },
   "outputs": [],
   "source": [
    "RL_shewhart<-c()\n",
    "RL_cusum<-c()\n",
    "RL_cusum_5 <-c()\n",
    "RL_ewma<-c()\n",
    "RL_ewma_1<-c()\n",
    "RL_ewma_2<-c()"
   ]
  },
  {
   "cell_type": "code",
   "execution_count": 27,
   "id": "ee9f14f0-dff3-4d9e-9e3d-4145d9e2b167",
   "metadata": {
    "vscode": {
     "languageId": "r"
    }
   },
   "outputs": [
    {
     "name": "stderr",
     "output_type": "stream",
     "text": [
      "Warning message in min(c(em$violations)):\n",
      "“no non-missing arguments to min; returning Inf”\n",
      "Warning message in min(c(em$violations)):\n",
      "“no non-missing arguments to min; returning Inf”\n",
      "Warning message in min(c(em$violations)):\n",
      "“no non-missing arguments to min; returning Inf”\n",
      "Warning message in min(c(em$violations)):\n",
      "“no non-missing arguments to min; returning Inf”\n",
      "Warning message in min(c(em$violations)):\n",
      "“no non-missing arguments to min; returning Inf”\n",
      "Warning message in min(c(em$violations)):\n",
      "“no non-missing arguments to min; returning Inf”\n",
      "Warning message in min(c(em$violations)):\n",
      "“no non-missing arguments to min; returning Inf”\n",
      "Warning message in min(c(em$violations)):\n",
      "“no non-missing arguments to min; returning Inf”\n",
      "Warning message in min(c(em$violations)):\n",
      "“no non-missing arguments to min; returning Inf”\n",
      "Warning message in min(c(em$violations)):\n",
      "“no non-missing arguments to min; returning Inf”\n",
      "Warning message in min(c(em$violations)):\n",
      "“no non-missing arguments to min; returning Inf”\n",
      "Warning message in min(c(em$violations)):\n",
      "“no non-missing arguments to min; returning Inf”\n",
      "Warning message in min(c(em$violations)):\n",
      "“no non-missing arguments to min; returning Inf”\n",
      "Warning message in min(c(em$violations)):\n",
      "“no non-missing arguments to min; returning Inf”\n",
      "Warning message in min(c(em$violations)):\n",
      "“no non-missing arguments to min; returning Inf”\n",
      "Warning message in min(c(em$violations)):\n",
      "“no non-missing arguments to min; returning Inf”\n",
      "Warning message in min(c(em$violations)):\n",
      "“no non-missing arguments to min; returning Inf”\n",
      "Warning message in min(c(em$violations)):\n",
      "“no non-missing arguments to min; returning Inf”\n",
      "Warning message in min(c(em$violations)):\n",
      "“no non-missing arguments to min; returning Inf”\n",
      "Warning message in min(c(em$violations)):\n",
      "“no non-missing arguments to min; returning Inf”\n",
      "Warning message in min(c(em$violations)):\n",
      "“no non-missing arguments to min; returning Inf”\n",
      "Warning message in min(c(em$violations)):\n",
      "“no non-missing arguments to min; returning Inf”\n",
      "Warning message in min(c(em$violations)):\n",
      "“no non-missing arguments to min; returning Inf”\n",
      "Warning message in min(c(em$violations)):\n",
      "“no non-missing arguments to min; returning Inf”\n",
      "Warning message in min(c(em$violations)):\n",
      "“no non-missing arguments to min; returning Inf”\n",
      "Warning message in min(c(em_1$violations)):\n",
      "“no non-missing arguments to min; returning Inf”\n",
      "Warning message in min(c(em$violations)):\n",
      "“no non-missing arguments to min; returning Inf”\n",
      "Warning message in min(c(em$violations)):\n",
      "“no non-missing arguments to min; returning Inf”\n",
      "Warning message in min(c(em$violations)):\n",
      "“no non-missing arguments to min; returning Inf”\n",
      "Warning message in min(c(em$violations)):\n",
      "“no non-missing arguments to min; returning Inf”\n",
      "Warning message in min(c(em$violations)):\n",
      "“no non-missing arguments to min; returning Inf”\n",
      "Warning message in min(c(em$violations)):\n",
      "“no non-missing arguments to min; returning Inf”\n",
      "Warning message in min(c(em$violations)):\n",
      "“no non-missing arguments to min; returning Inf”\n",
      "Warning message in min(c(em$violations)):\n",
      "“no non-missing arguments to min; returning Inf”\n",
      "Warning message in min(c(em$violations)):\n",
      "“no non-missing arguments to min; returning Inf”\n"
     ]
    }
   ],
   "source": [
    "for(i in 1:1000){\n",
    "   \n",
    "    x <- rt(5000,50)\n",
    "    sh <- qcc(x, type='xbar.one', plot=FALSE)\n",
    "    cu <- cusum(x, se.shift = 1, plot=FALSE)\n",
    "    cu_5 <- cusum(x, se.shift = 0.5, plot=FALSE)\n",
    "    em <- ewma(x, lambda = 0.05, plot=FALSE)\n",
    "    em_1 <- ewma(x, lambda = 0.1, plot=FALSE)\n",
    "    em_2 <- ewma(x, lambda = 0.2, plot=FALSE)\n",
    "                  \n",
    "    RL_shewhart<-c(RL_shewhart,min(c(sh$violations$beyond.limits)))\n",
    "    RL_cusum<-c(RL_cusum,min(c(cu$violations$lower,cu$violations$upper)))\n",
    "    RL_cusum_5<-c(RL_cusum_5,min(c(cu_5$violations$lower,cu_5$violations$upper)))\n",
    "    RL_ewma<-c(RL_ewma,min(c(em$violations)))\n",
    "    RL_ewma_1<-c(RL_ewma_1,min(c(em_1$violations)))\n",
    "    RL_ewma_2<-c(RL_ewma_2,min(c(em_2$violations)))\n",
    "   \n",
    "}"
   ]
  },
  {
   "cell_type": "code",
   "execution_count": 28,
   "id": "3724cb75-6535-46e5-ab1c-9c7ff86e168b",
   "metadata": {
    "vscode": {
     "languageId": "r"
    }
   },
   "outputs": [
    {
     "data": {
      "text/html": [
       "274.851"
      ],
      "text/latex": [
       "274.851"
      ],
      "text/markdown": [
       "274.851"
      ],
      "text/plain": [
       "[1] 274.851"
      ]
     },
     "metadata": {},
     "output_type": "display_data"
    },
    {
     "data": {
      "text/html": [
       "471.022"
      ],
      "text/latex": [
       "471.022"
      ],
      "text/markdown": [
       "471.022"
      ],
      "text/plain": [
       "[1] 471.022"
      ]
     },
     "metadata": {},
     "output_type": "display_data"
    },
    {
     "data": {
      "text/html": [
       "73.427"
      ],
      "text/latex": [
       "73.427"
      ],
      "text/markdown": [
       "73.427"
      ],
      "text/plain": [
       "[1] 73.427"
      ]
     },
     "metadata": {},
     "output_type": "display_data"
    },
    {
     "data": {
      "text/html": [
       "Inf"
      ],
      "text/latex": [
       "Inf"
      ],
      "text/markdown": [
       "Inf"
      ],
      "text/plain": [
       "[1] Inf"
      ]
     },
     "metadata": {},
     "output_type": "display_data"
    },
    {
     "data": {
      "text/html": [
       "Inf"
      ],
      "text/latex": [
       "Inf"
      ],
      "text/markdown": [
       "Inf"
      ],
      "text/plain": [
       "[1] Inf"
      ]
     },
     "metadata": {},
     "output_type": "display_data"
    },
    {
     "data": {
      "text/html": [
       "535.296"
      ],
      "text/latex": [
       "535.296"
      ],
      "text/markdown": [
       "535.296"
      ],
      "text/plain": [
       "[1] 535.296"
      ]
     },
     "metadata": {},
     "output_type": "display_data"
    }
   ],
   "source": [
    "mean(RL_shewhart)\n",
    "mean(RL_cusum)\n",
    "mean(RL_cusum_5)\n",
    "mean(RL_ewma)\n",
    "mean(RL_ewma_1)\n",
    "mean(RL_ewma_2)"
   ]
  },
  {
   "cell_type": "code",
   "execution_count": null,
   "id": "2730138e-bfef-4a7a-ba49-2ed9ad03a6f1",
   "metadata": {
    "vscode": {
     "languageId": "r"
    }
   },
   "outputs": [],
   "source": []
  }
 ],
 "metadata": {
  "kernelspec": {
   "display_name": "R",
   "language": "R",
   "name": "ir"
  },
  "language_info": {
   "codemirror_mode": "r",
   "file_extension": ".r",
   "mimetype": "text/x-r-source",
   "name": "R",
   "pygments_lexer": "r",
   "version": "3.6.1"
  }
 },
 "nbformat": 4,
 "nbformat_minor": 5
}
